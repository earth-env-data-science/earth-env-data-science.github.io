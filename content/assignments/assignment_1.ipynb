{
 "cells": [
  {
   "cell_type": "markdown",
   "metadata": {},
   "source": [
    "# Assignment 1\n",
    "\n",
    "## Part 1: Files, Git, GitHub\n",
    "\n",
    "Use JupyterLab to launch a terminal and use the terminal to do the following tasks:\n",
    "\n",
    "1. Create a new directory called `resume` within your home directory\n",
    "2. Create an empty file within this directory called `Readme.md`\n",
    "\n",
    "Now use JupyterLab to edit the file:\n",
    "\n",
    "1. Navigate to the directory in the file browser\n",
    "1. Open `Readme.md` in the text editor\n",
    "1. Open `Readme.md` in in Markdown Preview\n",
    "1. Arrange these files side-by-side so you can see your document rendered\n",
    "1. Edit the file in the editor. Add the following information:\n",
    "\n",
    "    1. Top level heading with your name\n",
    "    1. An image. It can be a photo of you or, if you prefer, a photo of your spirit animal.\n",
    "    1. Secondary heading entitled \"Education\"\n",
    "    1. A list of schools you attended, hyperlinked to the websites of those insitutions\n",
    "\n",
    "1. Save the file\n",
    "    \n",
    "Now go back to the terminal and do the following:\n",
    "\n",
    "1. Initialize a new git repository in the `resume` directory\n",
    "1. Add the `Readme.md` file to the repository\n",
    "1. Create a new commit with a commit message\n",
    "1. Check the git log to see your commit history\n",
    "1. Go to github and create a [new public repository](https://github.com/new) entitled `resume`\n",
    "1. Push your local resume repository to GitHub following the instructions.\n",
    "1. View your online resume at `http://github.com/<your github username>/resume`\n",
    "\n",
    "Finally, go back to the editor and add a new subsection called \"Research Interests\" to your `Readme.md` file. Update your local git repository and push your changes to GitHub. Verify that the remote repository is updated.\n",
    "\n",
    "To \"hand in\" this part of the assignment, just provide the link to your repository in the notebook cell below.\n",
    "\n",
    "\n",
    "## Create your Assignments Repository\n",
    "\n",
    "Now that you know how to create a git repository, you should create your assignments repository.\n",
    "\n",
    "- Create a new directory called `rces-assignments` in your home directory.\n",
    "- Copy the first assignment template into this directory (you will have to repeat this step each time a new assignment comes out.)\n",
    "\n",
    "        cp examples/content/Assignments/assignment_1.ipynb rces-assignments/\n",
    "        \n",
    "        \n",
    "- Initialize a new git repository \n",
    "- Add the file and make your first commit\n",
    "- Create a new **private** repository on GitHub called `rces-assignments`. (Call it exactly like that. Do not vary the spelling, capitalization, or punctuation.)\n",
    "- Push your `rces-assignments` repository to github\n",
    "- On github, go to \"settings\" -> \"collaborators\" and add `rabernat` and `xjin49`\n",
    "- Push new commits to this repository whenever you are ready to hand in your assignments"
   ]
  },
  {
   "cell_type": "markdown",
   "metadata": {},
   "source": [
    "## Part 2: Lists and Loops\n",
    "\n",
    "In this problem, we will explore the basic data structures and flow controls of python by _manually parsing a CSV file_.\n",
    "\n",
    "Note that this is a futile exercise. In the \"real world\" you should never manually parse a CSV file. There are utilities out there that will do it for you much more quickly and efficiently. However, it is a useful exercise for learning python.\n",
    "\n",
    "First we need to download a data file to parse. We can do this from the terminal, OR we can use `!` to run shell commands directly from the notebook. However you do it, you need to run these commands:\n",
    "\n",
    "    wget https://tinyurl.com/rces-roster\n",
    "    mv rces-roster rces-roster.csv\n",
    "    \n",
    "Before starting the python part, use the JupyterLab file browser to browse to this file. Click to open it. What do you see?"
   ]
  },
  {
   "cell_type": "markdown",
   "metadata": {},
   "source": [
    "Now we will begin the process of reading the file with python\n",
    "\n",
    "### Open the file using the `open` function \n",
    "\n",
    "Specifically, run the command\n",
    "\n",
    "    file = open('rces-roster.csv')"
   ]
  },
  {
   "cell_type": "code",
   "execution_count": null,
   "metadata": {},
   "outputs": [],
   "source": []
  },
  {
   "cell_type": "markdown",
   "metadata": {},
   "source": [
    "### Use the `help` function to get the documentation for your new variable `file`\n",
    "\n",
    "This will produce a long list of methods you can use with `file`."
   ]
  },
  {
   "cell_type": "code",
   "execution_count": null,
   "metadata": {},
   "outputs": [],
   "source": []
  },
  {
   "cell_type": "markdown",
   "metadata": {},
   "source": [
    "### Read the lines of the file into a variable called `lines`\n",
    "\n",
    "Hint: use the documentation above to find the method that sounds most likely to do what you want."
   ]
  },
  {
   "cell_type": "code",
   "execution_count": null,
   "metadata": {},
   "outputs": [],
   "source": []
  },
  {
   "cell_type": "markdown",
   "metadata": {},
   "source": [
    "What type of object is `lines`?"
   ]
  },
  {
   "cell_type": "code",
   "execution_count": null,
   "metadata": {},
   "outputs": [],
   "source": []
  },
  {
   "cell_type": "markdown",
   "metadata": {},
   "source": [
    "It should be a familiar type we learned about in class.\n",
    "\n",
    "### Display `lines` at the end of a cell in order to see its contents"
   ]
  },
  {
   "cell_type": "code",
   "execution_count": null,
   "metadata": {},
   "outputs": [],
   "source": []
  },
  {
   "cell_type": "markdown",
   "metadata": {},
   "source": [
    "### Use slicing to display the first three items of the list. And the last 3"
   ]
  },
  {
   "cell_type": "code",
   "execution_count": null,
   "metadata": {},
   "outputs": [],
   "source": []
  },
  {
   "cell_type": "code",
   "execution_count": null,
   "metadata": {},
   "outputs": [],
   "source": []
  },
  {
   "cell_type": "markdown",
   "metadata": {},
   "source": [
    "### Create a new list called `data` that does not contain the header row"
   ]
  },
  {
   "cell_type": "code",
   "execution_count": null,
   "metadata": {},
   "outputs": [],
   "source": []
  },
  {
   "cell_type": "markdown",
   "metadata": {},
   "source": [
    "### Now iterate through `lines` and `print` the item if it contains your uni"
   ]
  },
  {
   "cell_type": "code",
   "execution_count": null,
   "metadata": {},
   "outputs": [],
   "source": []
  },
  {
   "cell_type": "markdown",
   "metadata": {},
   "source": [
    "By now you have figured out what is in this data. Let's now transform it into a more useful format.\n",
    "\n",
    "### Write code to transform the data into a dictionary whose keys are UNIs and whose values are full names.\n",
    "\n",
    "(You might need to review Python's [string methods](https://docs.python.org/3/library/stdtypes.html#textseq).)\n"
   ]
  },
  {
   "cell_type": "code",
   "execution_count": null,
   "metadata": {},
   "outputs": [],
   "source": []
  },
  {
   "cell_type": "markdown",
   "metadata": {},
   "source": [
    "### Use this dictionary to look up your own name using your uni"
   ]
  },
  {
   "cell_type": "code",
   "execution_count": null,
   "metadata": {},
   "outputs": [],
   "source": []
  },
  {
   "cell_type": "markdown",
   "metadata": {},
   "source": [
    "### Figure out who has the longest last name in the class"
   ]
  },
  {
   "cell_type": "code",
   "execution_count": null,
   "metadata": {},
   "outputs": [],
   "source": []
  },
  {
   "cell_type": "code",
   "execution_count": null,
   "metadata": {},
   "outputs": [],
   "source": []
  },
  {
   "cell_type": "code",
   "execution_count": null,
   "metadata": {},
   "outputs": [],
   "source": []
  },
  {
   "cell_type": "code",
   "execution_count": null,
   "metadata": {},
   "outputs": [],
   "source": []
  }
 ],
 "metadata": {
  "kernelspec": {
   "display_name": "Python 3",
   "language": "python",
   "name": "python3"
  },
  "language_info": {
   "codemirror_mode": {
    "name": "ipython",
    "version": 3
   },
   "file_extension": ".py",
   "mimetype": "text/x-python",
   "name": "python",
   "nbconvert_exporter": "python",
   "pygments_lexer": "ipython3",
   "version": "3.6.2"
  }
 },
 "nbformat": 4,
 "nbformat_minor": 2
}

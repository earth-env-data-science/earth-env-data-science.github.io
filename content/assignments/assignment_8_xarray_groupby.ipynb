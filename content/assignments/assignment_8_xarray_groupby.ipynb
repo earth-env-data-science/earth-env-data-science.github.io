{
 "cells": [
  {
   "cell_type": "markdown",
   "metadata": {},
   "source": [
    "# Assignment 8 : Xarray Groupby\n",
    "\n",
    "\n",
    "Here will will calculate the NINO 3.4 index of El Nino variabillity and use it to analyze datasets.\n",
    "\n",
    "First read [this page from NOAA](https://www.ncdc.noaa.gov/teleconnections/enso/indicators/sst). It tells you the following.\n",
    "\n",
    "- The Nino 3.4 region is defined as the region between +/- 5 deg. lat, 170 W - 120 W lon.\n",
    "- Warm or cold phases of the Oceanic Nino Index are defined by a five consecutive 3-month running mean of sea surface temperature (SST) anomalies in the Niño 3.4 region that is above (below) the threshold of +0.5°C (-0.5°C). This is known as the Oceanic Niño Index (ONI).\n",
    "\n",
    "(Note that \"anomaly\" means that the seasonal cycle is removed.)\n",
    "\n",
    "\n",
    "### 1. Reproduce the SST curve from the figure below\n",
    "\n",
    "Use the `NOAA_NCDC_ERSST_v3b_SST.nc` file we worked with in class. (You should already have downloaded it; the link is <http://ldeo.columbia.edu/~rpa/NOAA_NCDC_ERSST_v3b_SST.nc>.)\n",
    "\n",
    "You don't have to match the stylistic details, just the \"3mth running mean\" curve.\n"
   ]
  },
  {
   "cell_type": "markdown",
   "metadata": {},
   "source": [
    "![enso](https://www.ncdc.noaa.gov/monitoring-content/teleconnections/eln-f-pg.gif)"
   ]
  },
  {
   "cell_type": "code",
   "execution_count": null,
   "metadata": {
    "collapsed": true
   },
   "outputs": [],
   "source": []
  },
  {
   "cell_type": "markdown",
   "metadata": {},
   "source": [
    "### 2. Calculate boolean timeseries representing the positive / negative enso phases\n",
    "\n",
    "Plot them somehow."
   ]
  },
  {
   "cell_type": "code",
   "execution_count": null,
   "metadata": {},
   "outputs": [],
   "source": []
  },
  {
   "cell_type": "markdown",
   "metadata": {},
   "source": [
    "### 3. Plot composites of SST anomaly for the positive and negative ENSO regimes"
   ]
  },
  {
   "cell_type": "code",
   "execution_count": null,
   "metadata": {},
   "outputs": [],
   "source": []
  },
  {
   "cell_type": "markdown",
   "metadata": {},
   "source": [
    "Now load the following dataset of precipitation.\n",
    "\n",
    "I have given you the code to fix the broken date variable."
   ]
  },
  {
   "cell_type": "code",
   "execution_count": null,
   "metadata": {},
   "outputs": [],
   "source": [
    "import pandas as pd\n",
    "import xarray as xr\n",
    "url = 'http://iridl.ldeo.columbia.edu/SOURCES/.NASA/.GPCP/.V2p1/.multi-satellite/.prcp/dods'\n",
    "dsp = xr.open_dataset(url, decode_times=False)\n",
    "true_time = (pd.date_range(start='1960-01-01', periods=len(dsp['T']), freq='MS')\n",
    "             +pd.Timedelta(days=14))\n",
    "dsp['T'] = true_time\n",
    "dsp = dsp.rename({'T': 'time'})\n",
    "dsp.load()"
   ]
  },
  {
   "cell_type": "markdown",
   "metadata": {},
   "source": [
    "### 4. Calculate the composite of preciptiation for positive and negative ENSO phases.\n",
    "\n",
    "Plot the *difference* between these two fields."
   ]
  },
  {
   "cell_type": "code",
   "execution_count": null,
   "metadata": {},
   "outputs": [],
   "source": []
  }
 ],
 "metadata": {
  "kernelspec": {
   "display_name": "Python 3",
   "language": "python",
   "name": "python3"
  },
  "language_info": {
   "codemirror_mode": {
    "name": "ipython",
    "version": 3
   },
   "file_extension": ".py",
   "mimetype": "text/x-python",
   "name": "python",
   "nbconvert_exporter": "python",
   "pygments_lexer": "ipython3",
   "version": "3.6.2"
  }
 },
 "nbformat": 4,
 "nbformat_minor": 2
}

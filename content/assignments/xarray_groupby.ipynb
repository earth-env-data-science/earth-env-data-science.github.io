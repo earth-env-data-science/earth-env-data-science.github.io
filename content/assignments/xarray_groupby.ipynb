{
 "cells": [
  {
   "cell_type": "markdown",
   "metadata": {},
   "source": [
    "# Assignment: Xarray Groupby\n",
    "\n",
    "\n",
    "Here will will calculate the NINO 3.4 index of El Nino variabillity and use it to analyze datasets.\n",
    "\n",
    "First read [this page from NOAA](https://www.ncdc.noaa.gov/teleconnections/enso/indicators/sst). It tells you the following.\n",
    "\n",
    "- The Nino 3.4 region is defined as the region between +/- 5 deg. lat, 170 W - 120 W lon.\n",
    "- Warm or cold phases of the Oceanic Nino Index are defined by a five consecutive 3-month running mean of sea surface temperature (SST) anomalies in the Niño 3.4 region that is above (below) the threshold of +0.5°C (-0.5°C). This is known as the Oceanic Niño Index (ONI).\n",
    "\n",
    "(Note that \"anomaly\" means that the seasonal cycle is removed.)\n",
    "\n",
    "\n",
    "### 1. Reproduce the SST curve from the figure below\n",
    "\n",
    "Use the NOAA ERSST v5 data  we worked with in class. (The OPeNDAP url is <'http://www.esrl.noaa.gov/psd/thredds/dodsC/Datasets/noaa.ersst.v5/sst.mnmean.nc'>.)\n",
    "\n",
    "You don't have to match the stylistic details, just the \"3mth running mean\" curve.\n"
   ]
  },
  {
   "cell_type": "markdown",
   "metadata": {},
   "source": [
    "![enso](https://www.ncdc.noaa.gov/monitoring-content/teleconnections/eln-f-pg.gif)"
   ]
  },
  {
   "cell_type": "code",
   "execution_count": null,
   "metadata": {
    "collapsed": true,
    "jupyter": {
     "outputs_hidden": true
    }
   },
   "outputs": [],
   "source": []
  },
  {
   "cell_type": "markdown",
   "metadata": {},
   "source": [
    "### 2. Calculate boolean timeseries representing the positive / negative enso phases\n",
    "\n",
    "Plot them somehow."
   ]
  },
  {
   "cell_type": "code",
   "execution_count": null,
   "metadata": {},
   "outputs": [],
   "source": []
  },
  {
   "cell_type": "markdown",
   "metadata": {},
   "source": [
    "### 3. Plot composites of SST anomaly for the positive and negative ENSO regimes"
   ]
  },
  {
   "cell_type": "code",
   "execution_count": null,
   "metadata": {},
   "outputs": [],
   "source": []
  },
  {
   "cell_type": "markdown",
   "metadata": {},
   "source": [
    "Now load the following dataset of precipitation.\n",
    "\n",
    "I have given you the code to fix a broken date variable."
   ]
  },
  {
   "cell_type": "code",
   "execution_count": 10,
   "metadata": {},
   "outputs": [
    {
     "data": {
      "text/plain": [
       "<xarray.Dataset>\n",
       "Dimensions:  (T: 362, X: 144, Y: 72)\n",
       "Coordinates:\n",
       "  * Y        (Y) float32 88.75 86.25 83.75 81.25 ... -81.25 -83.75 -86.25 -88.75\n",
       "  * X        (X) float32 1.25 3.75 6.25 8.75 ... 351.25 353.75 356.25 358.75\n",
       "  * T        (T) object 1979-01-16 00:00:00 ... 2009-02-16 00:00:00\n",
       "Data variables:\n",
       "    prcp     (T, Y, X) float32 ...\n",
       "Attributes:\n",
       "    Conventions:  IRIDL"
      ]
     },
     "execution_count": 10,
     "metadata": {},
     "output_type": "execute_result"
    }
   ],
   "source": [
    "import xarray as xr\n",
    "url = 'http://iridl.ldeo.columbia.edu/SOURCES/.NASA/.GPCP/.V2p1/.multi-satellite/.prcp/dods'\n",
    "dsp = xr.open_dataset(url, decode_times=False)\n",
    "# fix IRIDL metadata that does not conform to standards\n",
    "dsp.T.attrs['calendar'] = '360_day'\n",
    "dsp = xr.decode_cf(dsp)\n",
    "dsp"
   ]
  },
  {
   "cell_type": "markdown",
   "metadata": {},
   "source": [
    "### 4. Calculate the composite of preciptiation for positive and negative ENSO phases.\n",
    "\n",
    "Plot the *difference* between these two fields. How does precipitation change when ENSO is positive vs. negative?"
   ]
  },
  {
   "cell_type": "code",
   "execution_count": null,
   "metadata": {},
   "outputs": [],
   "source": []
  }
 ],
 "metadata": {
  "kernelspec": {
   "display_name": "Python 3",
   "language": "python",
   "name": "python3"
  },
  "language_info": {
   "codemirror_mode": {
    "name": "ipython",
    "version": 3
   },
   "file_extension": ".py",
   "mimetype": "text/x-python",
   "name": "python",
   "nbconvert_exporter": "python",
   "pygments_lexer": "ipython3",
   "version": "3.6.7"
  }
 },
 "nbformat": 4,
 "nbformat_minor": 4
}

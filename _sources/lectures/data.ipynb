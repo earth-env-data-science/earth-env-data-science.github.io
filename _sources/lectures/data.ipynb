{
 "cells": [
  {
   "cell_type": "markdown",
   "id": "596b7615-cbce-4e6b-8f81-c3a241b01056",
   "metadata": {},
   "source": [
    "# All About Data\n",
    "\n",
    "This lecture attempts to give a broad overview of Earth and Environment Science data formats, exchange protocols, and best practices."
   ]
  },
  {
   "cell_type": "markdown",
   "id": "924c3c94-67c6-4e73-a4c1-db608f35ddc2",
   "metadata": {},
   "source": [
    "## What is (are) data?\n",
    "\n",
    "Ultimately, as we know, all digital data are just 1s and 0s. Each 1 or 0 value is called a _bit_.\n",
    "Bits are usually grouped together in groups of 8 bits, called a _byte_.\n",
    "A byte can represent $2^8$, or 256, distinct values.\n",
    "We can choose to _encode_ and _organize_ the bytes in many different ways to represent different types of information."
   ]
  },
  {
   "cell_type": "markdown",
   "id": "1e3be857-0442-4c86-a0c3-376274f2d757",
   "metadata": {},
   "source": [
    "### Data Encoding\n",
    "\n",
    "Encoding is the way that we map raw bytes to meaningful values.\n",
    "\n",
    "#### Numerical Data\n",
    "\n",
    "The most straightforward way to interpret a byte is as an integer."
   ]
  },
  {
   "cell_type": "code",
   "execution_count": 8,
   "id": "0e3b0271-f7ec-4616-828e-e3d11a412025",
   "metadata": {},
   "outputs": [
    {
     "data": {
      "text/plain": [
       "170"
      ]
     },
     "execution_count": 8,
     "metadata": {},
     "output_type": "execute_result"
    }
   ],
   "source": [
    "value = 0b10101010  # 1 byte base-2 literal\n",
    "value"
   ]
  },
  {
   "cell_type": "markdown",
   "id": "f4ba51b4-d9f4-460d-b42c-9f81f3345ce1",
   "metadata": {},
   "source": [
    "However, many different numerial data types can be encoded as bytes.\n",
    "The more bytes we use for each value, the more range or precision we get."
   ]
  },
  {
   "cell_type": "code",
   "execution_count": 18,
   "id": "4a513751-4307-448d-b8a6-72fe3c816295",
   "metadata": {},
   "outputs": [
    {
     "name": "stdout",
     "output_type": "stream",
     "text": [
      "int16 2 bytes\n",
      "float64 8 bytes\n",
      "complex256 8 bytes\n"
     ]
    }
   ],
   "source": [
    "import numpy as np\n",
    "print(np.dtype('i2'), np.dtype('i2').itemsize, \"bytes\")\n",
    "print(np.dtype('f8'), np.dtype('f8').itemsize, \"bytes\")\n",
    "print(np.dtype('complex256'), np.dtype('f8').itemsize, \"bytes\")"
   ]
  },
  {
   "cell_type": "markdown",
   "id": "77d43114-984b-4132-ad25-25664d4b76b6",
   "metadata": {
    "tags": []
   },
   "source": [
    "#### Text Data\n",
    "\n",
    "We can also encode text as bytes.\n",
    "\n",
    "The simplest encoding is [ASCII](https://en.wikipedia.org/wiki/ASCII) (American Standard Code for Information Interchange).\n",
    "ASCII uses one byte per character and therefore the ASCII alphabet only contains 256 different characters.\n",
    "\n",
    "<img src=\"https://upload.wikimedia.org/wikipedia/commons/c/cf/USASCII_code_chart.png\" width=\"30%\" />\n",
    "\n",
    "As computers became more powerful, and the computing community grew beyond the US and Western Europe, a more inclusive character encoding standard called [Unicode](https://en.wikipedia.org/wiki/Unicode) took hold.\n",
    "The most common encoding is [UTF-8](https://en.wikipedia.org/wiki/UTF-8).\n",
    "UTF-8 uses four bytes per character.\n",
    "This web page the the Jupyter Notebook it was generated from all use UTF-8 encoding.\n",
    "\n",
    "Fun fact: emojis are UTF-8 characters."
   ]
  },
  {
   "cell_type": "code",
   "execution_count": 25,
   "id": "01120a01-fbe4-4661-9eb0-211f73d9d46a",
   "metadata": {},
   "outputs": [
    {
     "data": {
      "text/plain": [
       "b'\\xf0\\x9f\\x98\\x80'"
      ]
     },
     "execution_count": 25,
     "metadata": {},
     "output_type": "execute_result"
    }
   ],
   "source": [
    "\"😀\".encode()"
   ]
  },
  {
   "cell_type": "markdown",
   "id": "3691e386-0d7d-4b1c-9bf8-b72972ace246",
   "metadata": {},
   "source": [
    "Single values will only take us so far.\n",
    "To represent scientific data, we need to think about data _organization_."
   ]
  },
  {
   "cell_type": "markdown",
   "id": "9f7b7653-14fa-4a7f-9eac-d7a84355fd5e",
   "metadata": {},
   "source": [
    "### Tabular Data\n",
    "\n",
    "A very common type of data is \"tabular data\".\n",
    "We discussed it already in our Pandas lecture.\n",
    "Tabular data consists of _rows_ and _columns_.\n",
    "The columns usually have a name and a specific data type.\n",
    "Each row is a distinct sample.\n",
    "\n",
    "Here is an example of tabular data\n",
    "\n",
    "| Name | Mass | Diameter |\n",
    "| -- | -- | -- |\n",
    "| Mercury | 0.330 $\\times 10^{24}$ kg | 4879 km |  \n",
    "| Venus | 4.87 $\\times 10^{24}$ kg | 12,104 km |  \n",
    "| Earth | 5.97 $\\times 10^{24}$ kg | 12,756 km | \n",
    "\n",
    "(Via https://nssdc.gsfc.nasa.gov/planetary/factsheet/)\n",
    "\n",
    "The simplest and most common way to encode tabular data is in a text file as [CSV (comma-separated values)](https://en.wikipedia.org/wiki/Comma-separated_values).\n",
    "CSV is readable by humans and computer programs.\n",
    "\n",
    "For larger datasets, [Apache Parquet](https://parquet.apache.org/) is a good alternative.\n",
    "Parquet files are not human readable, but they can be parsed by computers much more quickly and efficiently.\n",
    "They also use compression to achieve a smaller file size compared to CSV.\n",
    "\n",
    "Multiple related tabular datasets can be stored and queried in a [relational database](https://en.wikipedia.org/wiki/Relational_database).\n",
    "Databases are very useful but beyond the scope of this class."
   ]
  },
  {
   "cell_type": "markdown",
   "id": "ed481fa0-dff9-4d0a-b7ba-db020f2602b6",
   "metadata": {},
   "source": [
    "### Array Data\n",
    "\n",
    "When we have numerical data that are organized into an N-dimensional rectangular grid of values, we are dealing with array data.\n",
    "\n",
    "<img src=\"http://xarray.pydata.org/en/stable/_images/dataset-diagram.png\" width=\"600px\" />\n",
    "\n",
    "(via http://xarray.pydata.org/en/stable/user-guide/data-structures.html)\n",
    "\n",
    "In python, we work with Array data in Numpy and Xarray.\n",
    "\n",
    "Array data can be stored in the following standard formats:\n",
    "\n",
    "- [Hierarchical Data Format (HDF5)](https://en.wikipedia.org/wiki/Hierarchical_Data_Format) - Container for many arrays\n",
    "- [Network Common Data Form (NetCDF)](https://www.unidata.ucar.edu/software/netcdf/) - Container for many arrays which conform to the [NetCDF data model](https://www.unidata.ucar.edu/software/netcdf/docs/netcdf_data_model.html)\n",
    "- [Zarr](https://zarr.readthedocs.io/en/stable/) - New cloud-optimized format for array storage\n",
    "- [TileDB Embedded](https://docs.tiledb.com/main/) - New cloud-optimized format for array storage\n"
   ]
  },
  {
   "cell_type": "markdown",
   "id": "57e379d5-ef6d-45c3-97cf-e8c1cfe43ddd",
   "metadata": {},
   "source": [
    "### \"GIS\" Data\n",
    "\n",
    "#### Raster Data\n",
    "\n",
    "#### Vector Data"
   ]
  },
  {
   "cell_type": "markdown",
   "id": "97eaaf98-efe6-4c59-bc0c-641573068a95",
   "metadata": {},
   "source": [
    "### Graph Data"
   ]
  },
  {
   "cell_type": "markdown",
   "id": "ae058167-0c3f-4968-aebb-1f52f8432dbd",
   "metadata": {},
   "source": [
    "### Unstructured Data\n",
    "\n",
    "JSON, etc."
   ]
  },
  {
   "cell_type": "markdown",
   "id": "153fcfaf-7330-43b4-8a6a-23cef660c979",
   "metadata": {},
   "source": [
    "### Metadata\n",
    "\n",
    "Common metadata conventions:\n",
    "\n",
    "- [Climate and Forecast (CF) Conventions](https://cfconventions.org/) - Commonly used with NetCDF data\n",
    "- [Attribute Convention for Data Discovery (ACDD)](https://wiki.esipfed.org/Attribute_Convention_for_Data_Discovery_1-3)\n",
    "- [Schema.org](https://schema.org/)"
   ]
  },
  {
   "cell_type": "markdown",
   "id": "c4492e23-17e4-4827-bf1e-6a6004329291",
   "metadata": {
    "tags": []
   },
   "source": [
    "## How do programs access data?"
   ]
  },
  {
   "cell_type": "markdown",
   "id": "088b27e2-16f4-4525-aa42-334a158ff6e9",
   "metadata": {},
   "source": [
    "### Local Files\n",
    "\n",
    "Some programs require data to be on your local hard drive to read.\n",
    "\n",
    "To download files to your local computer, we strongly recommend [Pooch](https://www.fatiando.org/pooch/latest/)."
   ]
  },
  {
   "cell_type": "markdown",
   "id": "3d7046c1-715b-4b8d-93ae-8cb40753ac40",
   "metadata": {},
   "source": [
    "### Over a Network\n",
    "\n",
    "A more modern and scalable way of loading data is to read it directly over the network into your program.\n",
    "\n",
    "#### HTTP streams\n",
    "\n",
    "#### OPEnDAP\n",
    "\n",
    "#### Other APIs"
   ]
  },
  {
   "cell_type": "markdown",
   "id": "b719bfce-8ff1-42a6-90fa-f72980bf10cd",
   "metadata": {},
   "source": [
    "### Cloud Object Storage"
   ]
  },
  {
   "cell_type": "markdown",
   "id": "5cb8ae19-607e-4fb3-95a0-eeaef51a19f9",
   "metadata": {},
   "source": [
    "## Best practices for data sharing\n",
    "\n",
    "FAIR\n",
    "\n",
    "https://eos.org/editors-vox/enabling-findable-accessible-interoperable-and-reusable-data\n",
    "\n",
    "https://www.force11.org/group/fairgroup/fairprinciples"
   ]
  },
  {
   "cell_type": "markdown",
   "id": "fb224da2-1536-4ca4-b4c9-0bf09c37fd94",
   "metadata": {},
   "source": [
    "### To be Findable:\n",
    "\n",
    "F1. (meta)data are assigned a globally unique and eternally persistent identifier.\n",
    "\n",
    "F2. data are described with rich metadata.\n",
    "\n",
    "F3. (meta)data are registered or indexed in a searchable resource.\n",
    "\n",
    "F4. metadata specify the data identifier."
   ]
  },
  {
   "cell_type": "markdown",
   "id": "0cebb9d6-e103-4f6f-8392-a0bf3c70ce92",
   "metadata": {},
   "source": [
    "### To be Accessible:\n",
    "\n",
    "A1  (meta)data are retrievable by their identifier using a standardized communications protocol.\n",
    "\n",
    "A1.1 the protocol is open, free, and universally implementable.\n",
    "\n",
    "A1.2 the protocol allows for an authentication and authorization procedure, where necessary.\n",
    "\n",
    "A2 metadata are accessible, even when the data are no longer available."
   ]
  },
  {
   "cell_type": "markdown",
   "id": "04d91ba2-9a17-49dc-8448-db4912c4314e",
   "metadata": {},
   "source": [
    "### To be Interoperable:\n",
    "    \n",
    "I1. (meta)data use a formal, accessible, shared, and broadly applicable language for knowledge representation.\n",
    "\n",
    "I2. (meta)data use vocabularies that follow FAIR principles.\n",
    "\n",
    "I3. (meta)data include qualified references to other (meta)data.\n"
   ]
  },
  {
   "cell_type": "markdown",
   "id": "d5584d1f-98e9-4025-b73e-dcb5a46326ed",
   "metadata": {},
   "source": [
    "### To be Re-useable:\n",
    "    \n",
    "R1. meta(data) have a plurality of accurate and relevant attributes.\n",
    "\n",
    "R1.1. (meta)data are released with a clear and accessible data usage license.\n",
    "\n",
    "R1.2. (meta)data are associated with their provenance.\n",
    "\n",
    "R1.3. (meta)data meet domain-relevant community standards."
   ]
  },
  {
   "cell_type": "markdown",
   "id": "98f1d940-43aa-4955-9047-d8789f0066e7",
   "metadata": {},
   "source": [
    "## Persistent Identifiers (PI / PID)\n",
    "\n",
    "Persistent identifier are quasi-permanent unique identifiers that can be used to look up data, articles, books, etc.\n",
    "They are a key aspect of making data _Findable_.\n",
    "Digitial persistent identifiers are usually HTTP URLs that are guaranteed to continue working for a long time (in contrast to general URLs, which could change or disappear at any time.)\n",
    "\n",
    "### Digital Object Identifiers\n",
    "\n",
    "<img src=\"https://upload.wikimedia.org/wikipedia/commons/thumb/1/11/DOI_logo.svg/1200px-DOI_logo.svg.png\" width=\"20%\" />\n",
    "\n",
    "In science, the [DOI system](https://www.doi.org/) has become a univerally accepted way to identify and find digital scholarly objects.\n",
    "A DOI consists of a string of characters. Prepending the URL `https://doi.org/` to a DOI will generate a web link that can be used to look up the object.\n",
    "\n",
    "Publishers (of journal articles, books, data repositories, etc.) will typical generate (or \"mint\") a DOI for new content when it is published.\n",
    "The publisher commits to making the DOI work \"forever\". \n",
    "That's why not just anyone can create a DOI; it's a commitment.\n",
    "\n",
    "Here are some examples of DOIs. Click the links to see where they go.\n",
    "\n",
    "| Product Type | DOI | DOI Resolver |\n",
    "| -- | -- | -- |\n",
    "| Article | `10.1109/MCSE.2021.3059437` | https://doi.org/10.1109/MCSE.2021.3059437 |\n",
    "| Dataset | `10.6084/m9.figshare.3507758.v1` | https://doi.org/10.6084/m9.figshare.3507758.v1 |\n",
    "| Software | `10.5281/zenodo.4821276` | https://doi.org/10.5281/zenodo.4821276 |"
   ]
  },
  {
   "cell_type": "markdown",
   "id": "b42aebd6-05c6-44ed-8927-9c720a85b163",
   "metadata": {
    "tags": []
   },
   "source": [
    "## How can YOU can create FAIR data and code?"
   ]
  },
  {
   "cell_type": "markdown",
   "id": "2ff53940-b13f-4304-b097-fd83bc6abe44",
   "metadata": {},
   "source": [
    "### What not to do\n",
    "\n",
    "- Put the data / code on your personal website\n",
    "- Put the data / code in Google Drive / Dropbox / etc.\n",
    "- Put the data / code in GitHub\n",
    "\n",
    "The problem with these solutions is that they are _not persistent_ and therefore not _findable_.\n"
   ]
  },
  {
   "cell_type": "markdown",
   "id": "08f03e4b-5ed9-418d-b65e-61a2f330afee",
   "metadata": {},
   "source": [
    "### Rough guide to FAIRly sharing data\n",
    "\n",
    "This guide applies to _small_ data (< 10 GB). \n",
    "Sharing medium or large datasets is more difficult and complicated--clear solutions and best practices do not yet exist.\n"
   ]
  },
  {
   "cell_type": "markdown",
   "id": "6d837dfc-6a0d-4d36-a6df-0df5cf18f307",
   "metadata": {},
   "source": [
    "#### Step 1: Quality control the data and metadata\n",
    "\n",
    "Before sharing a dataset, you should apply quality control to ensure there are not bad or incorrect values.\n",
    "Choose a standard data format appropriate to the structure of your data, as reviewed above.\n",
    "You also need to generate metadata for your data.\n",
    "If your format supports embedded metadata (e.g. NetCDF, Zarr), you should provide it following one or more of the metadata conventions reviewed above (e.g. CF, ACDD, etc.)\n",
    "If not (e.g. csv files), you should provide a separate metadata file (e.g. `README.txt`) to accompany your data.\n",
    "Once your data and metadata quality control is complete, export the data file[s] to a local folder.\n"
   ]
  },
  {
   "cell_type": "markdown",
   "id": "1aa16fcc-054b-4352-99f2-ddf9615162ab",
   "metadata": {},
   "source": [
    "#### Step 2: Upload the data to Zenodo\n",
    "\n",
    "![Zenodo](https://about.zenodo.org/static/img/logos/zenodo-gradient-200.png)\n",
    "\n",
    "Our recommended data repository is [Zenodo](https://zenodo.org/).\n",
    "\n",
    "> Built and developed by researchers, to ensure that everyone can join in Open Science.\n",
    ">\n",
    "> The OpenAIRE project, in the vanguard of the open access and open data movements in Europe was commissioned by the EC to support their nascent Open Data policy by providing a catch-all repository for EC funded research. CERN, an OpenAIRE partner and pioneer in open source, open access and open data, provided this capability and Zenodo was launched in May 2013.\n",
    ">\n",
    "> In support of its research programme CERN has developed tools for Big Data management and extended Digital Library capabilities for Open Data. Through Zenodo these Big Science tools could be effectively shared with the long­-tail of research.\n",
    "\n",
    "Via https://about.zenodo.org/"
   ]
  },
  {
   "cell_type": "markdown",
   "id": "43c3333e-01da-4313-90c5-4570d0b8013a",
   "metadata": {},
   "source": [
    "First create a Zenodo account: https://zenodo.org/signup/\n",
    "Make sure to link your Zenodo account to your GitHub and [ORCID](https://orcid.org/) accounts.\n",
    "\n",
    "Then go to https://zenodo.org/deposit to deposit a new record.\n",
    "Follow the instructions provided, and make sure to include as much metadata as you can.\n",
    "Make sure to choose an open-access license such as Creative Commons.\n",
    "This will make your data more Interoperable and Re-useable.\n",
    "\n",
    "When all your data are uploaded and you have double-checked the metadata, you can click \"Publish\".\n",
    "This will create a permanent archive for your data and generate a new DOI! 🎉"
   ]
  },
  {
   "cell_type": "markdown",
   "id": "fc61eaf8-97c0-47b1-8625-6a192b0c9e65",
   "metadata": {},
   "source": [
    "#### Step 3: Verify you can access the data\n",
    "\n",
    "Use the [Pooch DOI downloader](https://www.fatiando.org/pooch/latest/api/generated/pooch.DOIDownloader.html) to download and open your data files from a Jupyter Notebook."
   ]
  },
  {
   "cell_type": "markdown",
   "id": "ca65ef75-0ad0-48c6-8fb9-8aac36f0f85e",
   "metadata": {},
   "source": [
    "### Sharing Code\n",
    "\n",
    "Putting code on GitHub is very convenient for collaboration.\n",
    "But GitHub does not meet the FAIR requirements.\n",
    "Therefore, to make your code truly FAIR, you need to deposit it in a permamenent repository.\n",
    "Again we recommend Zenodo.\n",
    "Fortunately, Zenodo and GitHub integrate very well with each other.\n",
    "\n",
    "The steps for archiving a GitHub repo in Zenodo are [very well documented](https://docs.github.com/en/repositories/archiving-a-github-repository/referencing-and-citing-content).\n",
    "\n",
    "```{note}\n",
    "Prior to archiving your repo, you need to [create a CITATION.cff file](https://docs.github.com/en/repositories/managing-your-repositorys-settings-and-features/customizing-your-repository/about-citation-files).\n",
    "```"
   ]
  },
  {
   "cell_type": "code",
   "execution_count": null,
   "id": "ea73fa2a-b67f-4f0e-b6d2-61dc0ff5cbb9",
   "metadata": {},
   "outputs": [],
   "source": []
  }
 ],
 "metadata": {
  "kernelspec": {
   "display_name": "Python 3 (ipykernel)",
   "language": "python",
   "name": "python3"
  },
  "language_info": {
   "codemirror_mode": {
    "name": "ipython",
    "version": 3
   },
   "file_extension": ".py",
   "mimetype": "text/x-python",
   "name": "python",
   "nbconvert_exporter": "python",
   "pygments_lexer": "ipython3",
   "version": "3.8.12"
  }
 },
 "nbformat": 4,
 "nbformat_minor": 5
}

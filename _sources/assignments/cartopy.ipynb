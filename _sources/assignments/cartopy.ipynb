{
 "cells": [
  {
   "cell_type": "markdown",
   "metadata": {},
   "source": [
    "# Assignment: Making Maps with Cartopy\n",
    "\n",
    "### 1) Plot data from NARR\n",
    "\n",
    "NARR is NCEP's [North American Regional Reanalysis](https://www.esrl.noaa.gov/psd/data/gridded/data.narr.html), a widely used product for studying the weather and climate of the continental US. The data is available from NOAA's [Earth System Research Laboratory](https://www.esrl.noaa.gov/) via [OPeNDAP](https://en.wikipedia.org/wiki/OPeNDAP), meaing that xarray can open the data \"remotely\" without downloading a file.\n",
    "\n",
    "For this problem, you should open this geopential height file:\n",
    "\n",
    "    https://www.esrl.noaa.gov/psd/thredds/dodsC/Datasets/NARR/Dailies/pressure/hgt.201810.nc\n",
    "    \n",
    "And this precipitation file:\n",
    "\n",
    "    https://www.esrl.noaa.gov/psd/thredds/dodsC/Datasets/NARR/Dailies/monolevel/apcp.2018.nc\n",
    "    \n",
    "Your goal is to make a map that looks like the one below. It shows total precipitation on Oct. 15, 2018 in blue, plus contours of the 500 mb geopotential surface.\n",
    "\n",
    "_Hint: examine the dataset variables and attirbutes carefully in order to determine the projection of the data._\n",
    "\n",
    "![narr_map](cartopy_figures/narr_map.png)"
   ]
  },
  {
   "cell_type": "markdown",
   "metadata": {},
   "source": [
    "### 2) Antarctic Sea Ice\n",
    "\n",
    "Download this file and then use it to plot the concentration of Antarctic Sea Ice on Aug. 7, 2017. Again, you will need to explore the file contents in order to determine the correct projection.\n"
   ]
  },
  {
   "cell_type": "code",
   "execution_count": null,
   "metadata": {},
   "outputs": [],
   "source": [
    "import xarray as xr\n",
    "import pooch\n",
    "url = 'https://polarwatch.noaa.gov/erddap/files/nsidcCDRiceSQsh1day/2017/seaice_conc_daily_sh_f17_20170807_v03r01.nc'\n",
    "fname = pooch.retrieve(url, known_hash='19b74e7e97f1c0786da0c674c4d5e4af0da5b32e2fe8c66a8f1a8a9a1241e73c')\n",
    "ds_ice = xr.open_dataset(fname, drop_variables='melt_onset_day_seaice_conc_cdr')"
   ]
  },
  {
   "cell_type": "markdown",
   "metadata": {},
   "source": [
    "![sea_ice_map](cartopy_figures/sea_ice_map.png)"
   ]
  },
  {
   "cell_type": "markdown",
   "metadata": {},
   "source": [
    "### 3) Global USGS Earthquakes\n",
    "\n",
    "Reload the file we explored in homework 5 using pandas\n",
    "\n",
    "    http://www.ldeo.columbia.edu/~rpa/usgs_earthquakes_2014.csv\n",
    "    \n",
    "and use the data to recreate this map."
   ]
  },
  {
   "cell_type": "markdown",
   "metadata": {},
   "source": [
    "![earthquake_map](cartopy_figures/earthquake_map.png)"
   ]
  }
 ],
 "metadata": {
  "kernelspec": {
   "display_name": "Python 3 (ipykernel)",
   "language": "python",
   "name": "python3"
  },
  "language_info": {
   "codemirror_mode": {
    "name": "ipython",
    "version": 3
   },
   "file_extension": ".py",
   "mimetype": "text/x-python",
   "name": "python",
   "nbconvert_exporter": "python",
   "pygments_lexer": "ipython3",
   "version": "3.9.13"
  }
 },
 "nbformat": 4,
 "nbformat_minor": 4
}

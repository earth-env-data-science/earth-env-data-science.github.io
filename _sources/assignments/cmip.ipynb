{
 "cells": [
  {
   "attachments": {
    "8fffbb48-ab88-4728-9e14-56cf8ccb51b7.png": {
     "image/png": "https://user-images.githubusercontent.com/14314623/210852697-83d3e1f6-d7fa-416b-a6d0-b830a9a76f08.png"
    }
   },
   "cell_type": "markdown",
   "id": "e2406ca1-e06e-48fe-9fb1-05ae01429d44",
   "metadata": {},
   "source": [
    "# Assignment: Calculate wet bulb temperature for CMIP6 models\n",
    "\n",
    "Global temperatures are increasing due to the effects of anthropogenic greenhouse gas emissions. This has many potentially disastrous consequences for many people around the world. One of the concerns is that in hot and humid climates, depending on the humidity and increase in temperature could lead to fatal conditions. \n",
    "One way to quantify the combined effect of temperature and humidity for human health is the wet bulb temperature (WBT), which can be approximated as:\n",
    "\n",
    "![Screen Shot 2023-01-04 at 9.00.44 PM.png](attachment:8fffbb48-ab88-4728-9e14-56cf8ccb51b7.png)\n",
    "\n",
    "[source](https://journals.ametsoc.org/view/journals/apme/50/11/jamc-d-11-0143.1.xml)\n",
    "\n",
    "[\"The wet-bulb temperature is the lowest temperature that can be reached under current ambient conditions by the evaporation of water only\"](https://en.wikipedia.org/wiki/Wet-bulb_temperature#:~:text=Wet%2Dbulb%20temperature%20and%20health,-See%20also%3A%20Effects&text=A%20sustained%20wet%2Dbulb%20temperature,to%20gaining%20heat%20from%20it.). Simply put, if the wet bulb temperature gets too high, the evaporation of sweat can not cool the human body sufficiently. \n",
    "\n",
    "A sustained wet bulb temperature >35C is likely to be fatal, but lower WBT can also be dangerous depending on other external factors (e.g. solar radiation and insufficient air flow). From [Raymond et al. 2020](https://www.ncbi.nlm.nih.gov/pmc/articles/PMC7209987/): \"for example, regions affected by the deadly 2003 European and 2010 Russian heat waves experienced TW values no greater than 28°C\"\n",
    "\n",
    "This exercise aims to practice working with the CMIP6 cloud archive by computing the wet bulb temperature from available variables and summarizing the results in timeseries plots."
   ]
  },
  {
   "cell_type": "markdown",
   "id": "7e09f4c1-ab6c-4faf-8e97-267f55f33608",
   "metadata": {},
   "source": [
    "> Lets start by importing matplotlib, xarray, numpy, and combined_preprocessing from xmip.preprocessing. Set the default figure size to (12, 6).  \n",
    "\n",
    "> Then load the intake-esm collection for CMIP6 data on Google Cloud Storage (you can use xmip, as we did in the lecture, or set this up according to the [pangeo instructions](http://gallery.pangeo.io/repos/pangeo-gallery/cmip6/intake_ESM_example.html)). The result should be the same."
   ]
  },
  {
   "cell_type": "code",
   "execution_count": null,
   "id": "8df78194-8e21-49a3-a4a3-1ff94abb5ab8",
   "metadata": {},
   "outputs": [],
   "source": []
  },
  {
   "cell_type": "markdown",
   "id": "23482f5d-12b5-469f-88d6-e1b54e01051f",
   "metadata": {},
   "source": [
    "> The ingredients we need for wet bulb temperature are surface temperature and relative humidity. \n",
    "\n",
    "> Find the relevant variables using the [spreadheet](https://docs.google.com/spreadsheets/d/1UUtoz6Ofyjlpx5LdqhKcwHFz2SGoTQV2_yekHyMfL9Y/edit#gid=1221485271) from the lecture. You can enter multiple variables in the search query like so: `.search(..., variable_id=['a', 'b'], ...)`.\n",
    "\n",
    "> Select a subset of the variables, the `'historical'` experiment, the native model grid, monthly output, thres models (`['NorESM2-MM', 'MPI-ESM1-2-LR', 'CanESM5']` are recommended but feel free to explore), and a single member (`'r1i1p1f1'`) for starters. *Check out some more models/members later if you are curious!*\n",
    "\n",
    "> Then load the data into a dictionary of xarray datasets like we did in the lecture."
   ]
  },
  {
   "cell_type": "code",
   "execution_count": null,
   "id": "a01765b1-296f-41bd-b490-2ce6c24854a5",
   "metadata": {},
   "outputs": [],
   "source": []
  },
  {
   "cell_type": "markdown",
   "id": "c07d209c-ae0c-4530-a256-bd5e1da565f8",
   "metadata": {},
   "source": [
    "> Now lets calculate the wet bulb temperature according to the formula above. Write a function that calculates wet bulb temperature from temperature and humidity. \n",
    "\n",
    "> 🚨 Watch the units and convert if necessary! You can always check the units by looking at the metadata of a variable (`ds['your_variable'].attrs['units]`).\n",
    "\n",
    "> A good test to see if your function is doint the right thing is to calculate the example from the [paper](https://journals.ametsoc.org/view/journals/apme/50/11/jamc-d-11-0143.1.xml): For relative humidity of 50% and temperature of 20C, we expect ~13.7C for the wet bulb temperature."
   ]
  },
  {
   "cell_type": "code",
   "execution_count": null,
   "id": "10db86d6-d08b-4220-bdc4-47133ad174c7",
   "metadata": {},
   "outputs": [],
   "source": []
  },
  {
   "cell_type": "markdown",
   "id": "a3c94714-3e38-408e-848c-4423f0c887b9",
   "metadata": {},
   "source": [
    "> To get an idea of the extremes globally lets compute the 90th percentile (`xarray.DataArray.quantile()` is your friend) of wet bulb temperature at every timesteps and then compute the annual average of that and plot is as a timeseries for each model. "
   ]
  },
  {
   "cell_type": "code",
   "execution_count": null,
   "id": "1cbfccce-0eef-4267-8688-0a22193cb49f",
   "metadata": {},
   "outputs": [],
   "source": []
  },
  {
   "cell_type": "markdown",
   "id": "34c85f6d-3189-44af-ab94-a49f5d0455fc",
   "metadata": {},
   "source": [
    "> What we are really interested in is to see how these extreme WBT are going to evolve in the future. Lets use your new CMIP6 skills to get some more data!\n",
    "> Make another query to get two of the future scenario experiments (`ssp585` and `ssp245`- the 'worst case' and 'middle of the road' scenarios) for the same models and load them into separate dataset_dictionaries."
   ]
  },
  {
   "cell_type": "code",
   "execution_count": null,
   "id": "33e7c796-03c9-4c10-bea9-0204b805aeb0",
   "metadata": {},
   "outputs": [],
   "source": []
  },
  {
   "cell_type": "markdown",
   "id": "e92cf583-7107-44dd-a45f-99ae174524c4",
   "metadata": {},
   "source": [
    "> Plot the same quantity as before (90th percentile in space and annual maximum) for each model and all 3 experiments to see how each model predicts wet bulb temperature extremes until the end of the century. Use color/linestyle/lineweight to separate the experiments."
   ]
  },
  {
   "cell_type": "code",
   "execution_count": null,
   "id": "d216def6-b8a3-42d9-a70d-455ac0b3af75",
   "metadata": {},
   "outputs": [],
   "source": []
  },
  {
   "cell_type": "markdown",
   "id": "feef1773-f240-4554-b3b9-bb43f9a1ee4f",
   "metadata": {},
   "source": [
    "> As a final step, lets look where these extremes occur. Plot a map of an annual average from 2099-2100 for each model and scenario. Make sure to restrict the colormap to + 30 to see where extremes occur"
   ]
  },
  {
   "cell_type": "code",
   "execution_count": null,
   "id": "130c11a0-d8b3-4e1f-974a-275a60c53b66",
   "metadata": {},
   "outputs": [],
   "source": []
  }
 ],
 "metadata": {
  "kernelspec": {
   "display_name": "Python 3 (ipykernel)",
   "language": "python",
   "name": "python3"
  },
  "language_info": {
   "codemirror_mode": {
    "name": "ipython",
    "version": 3
   },
   "file_extension": ".py",
   "mimetype": "text/x-python",
   "name": "python",
   "nbconvert_exporter": "python",
   "pygments_lexer": "ipython3",
   "version": "3.10.8"
  }
 },
 "nbformat": 4,
 "nbformat_minor": 5
}
